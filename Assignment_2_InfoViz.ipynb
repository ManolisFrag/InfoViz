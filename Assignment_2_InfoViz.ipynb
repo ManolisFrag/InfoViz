{
 "cells": [
  {
   "cell_type": "markdown",
   "metadata": {},
   "source": [
    "# Information Vizualization Assignment 2"
   ]
  },
  {
   "cell_type": "markdown",
   "metadata": {},
   "source": [
    "## Part 1: Analyzing the data"
   ]
  },
  {
   "cell_type": "code",
   "execution_count": 1,
   "metadata": {},
   "outputs": [],
   "source": [
    "#imports\n",
    "import pandas as pd"
   ]
  },
  {
   "cell_type": "markdown",
   "metadata": {},
   "source": [
    "### Let's first load the csv files into pandas' dataframes in order to inspect them later\n",
    "##### I use the dropna function to remove some of the NAN values that have been imported by mistake"
   ]
  },
  {
   "cell_type": "code",
   "execution_count": 2,
   "metadata": {},
   "outputs": [],
   "source": [
    "df_obama_gifts = pd.read_csv(\"Full_List.csv\", encoding = \"ISO-8859-1\")\n",
    "df_hillary = pd.read_csv(\"Hillary_Sample.csv\", encoding = \"ISO-8859-1\", usecols=[x for x in range(0,8)], low_memory=False).dropna()\n",
    "df_country_information = pd.read_csv(\"Country Information.csv\", encoding = \"ISO-8859-1\")\n",
    "df_year_information = pd.read_csv(\"Year Information.csv\", encoding = \"ISO-8859-1\")"
   ]
  },
  {
   "cell_type": "code",
   "execution_count": 3,
   "metadata": {},
   "outputs": [
    {
     "data": {
      "text/html": [
       "<div>\n",
       "<style scoped>\n",
       "    .dataframe tbody tr th:only-of-type {\n",
       "        vertical-align: middle;\n",
       "    }\n",
       "\n",
       "    .dataframe tbody tr th {\n",
       "        vertical-align: top;\n",
       "    }\n",
       "\n",
       "    .dataframe thead th {\n",
       "        text-align: right;\n",
       "    }\n",
       "</style>\n",
       "<table border=\"1\" class=\"dataframe\">\n",
       "  <thead>\n",
       "    <tr style=\"text-align: right;\">\n",
       "      <th></th>\n",
       "      <th>Date</th>\n",
       "      <th>Year</th>\n",
       "      <th>Country</th>\n",
       "      <th>Donor</th>\n",
       "      <th>Items</th>\n",
       "      <th>Value ($)</th>\n",
       "      <th>Continent</th>\n",
       "      <th>Regime</th>\n",
       "    </tr>\n",
       "  </thead>\n",
       "  <tbody>\n",
       "    <tr>\n",
       "      <th>0</th>\n",
       "      <td>5/23/2010</td>\n",
       "      <td>2010.0</td>\n",
       "      <td>China</td>\n",
       "      <td>Mr. Yu Zhengsheng</td>\n",
       "      <td>Framed watercolor painting, title: \"Celestial ...</td>\n",
       "      <td>350.0</td>\n",
       "      <td>Asia</td>\n",
       "      <td>Authoritarian</td>\n",
       "    </tr>\n",
       "    <tr>\n",
       "      <th>1</th>\n",
       "      <td>01/02/2002</td>\n",
       "      <td>2002.0</td>\n",
       "      <td>Israel</td>\n",
       "      <td>His Excellency Benyamin Elon</td>\n",
       "      <td>Ancient Roman glass Judaica salt dish with ste...</td>\n",
       "      <td>195.0</td>\n",
       "      <td>Asia</td>\n",
       "      <td>Flawed Democracy</td>\n",
       "    </tr>\n",
       "    <tr>\n",
       "      <th>2</th>\n",
       "      <td>12/08/2006</td>\n",
       "      <td>2006.0</td>\n",
       "      <td>Afghanistan</td>\n",
       "      <td>His Excellency Abdul Rahim Wardak</td>\n",
       "      <td>75\" x 48\" Afghan rug.</td>\n",
       "      <td>500.0</td>\n",
       "      <td>Asia</td>\n",
       "      <td>Authoritarian</td>\n",
       "    </tr>\n",
       "    <tr>\n",
       "      <th>3</th>\n",
       "      <td>01/01/2007</td>\n",
       "      <td>2007.0</td>\n",
       "      <td>Jordan</td>\n",
       "      <td>Their Majesties King Abdullah II ibn Al Hussei...</td>\n",
       "      <td>Set of silver Demitasse cups and wooden bowls.</td>\n",
       "      <td>600.0</td>\n",
       "      <td>Asia</td>\n",
       "      <td>Authoritarian</td>\n",
       "    </tr>\n",
       "    <tr>\n",
       "      <th>4</th>\n",
       "      <td>06/06/2007</td>\n",
       "      <td>2007.0</td>\n",
       "      <td>Italy</td>\n",
       "      <td>His Excellency Francesco Rutelli</td>\n",
       "      <td>Free-standing mirrored artwork by M. Pistoletto.</td>\n",
       "      <td>500.0</td>\n",
       "      <td>Europe</td>\n",
       "      <td>Flawed Democracy</td>\n",
       "    </tr>\n",
       "  </tbody>\n",
       "</table>\n",
       "</div>"
      ],
      "text/plain": [
       "         Date    Year      Country  \\\n",
       "0   5/23/2010  2010.0        China   \n",
       "1  01/02/2002  2002.0       Israel   \n",
       "2  12/08/2006  2006.0  Afghanistan   \n",
       "3  01/01/2007  2007.0       Jordan   \n",
       "4  06/06/2007  2007.0        Italy   \n",
       "\n",
       "                                               Donor  \\\n",
       "0                                  Mr. Yu Zhengsheng   \n",
       "1                       His Excellency Benyamin Elon   \n",
       "2                  His Excellency Abdul Rahim Wardak   \n",
       "3  Their Majesties King Abdullah II ibn Al Hussei...   \n",
       "4                   His Excellency Francesco Rutelli   \n",
       "\n",
       "                                               Items  Value ($) Continent  \\\n",
       "0  Framed watercolor painting, title: \"Celestial ...      350.0      Asia   \n",
       "1  Ancient Roman glass Judaica salt dish with ste...      195.0      Asia   \n",
       "2                             75\" x 48\" Afghan rug.       500.0      Asia   \n",
       "3    Set of silver Demitasse cups and wooden bowls.       600.0      Asia   \n",
       "4  Free-standing mirrored artwork by M. Pistoletto.       500.0    Europe   \n",
       "\n",
       "             Regime  \n",
       "0     Authoritarian  \n",
       "1  Flawed Democracy  \n",
       "2     Authoritarian  \n",
       "3     Authoritarian  \n",
       "4  Flawed Democracy  "
      ]
     },
     "execution_count": 3,
     "metadata": {},
     "output_type": "execute_result"
    }
   ],
   "source": [
    "df_hillary.head()"
   ]
  },
  {
   "cell_type": "markdown",
   "metadata": {},
   "source": [
    "### By getting a list with the name of the columns can help us later to structure the database"
   ]
  },
  {
   "cell_type": "code",
   "execution_count": 4,
   "metadata": {},
   "outputs": [],
   "source": [
    "obama_list = list(df_obama_gifts)\n",
    "hilary_list = list(df_hillary)\n",
    "year_list = list(df_year_information)\n",
    "country_list = list(df_country_information)"
   ]
  },
  {
   "cell_type": "code",
   "execution_count": 5,
   "metadata": {},
   "outputs": [
    {
     "name": "stdout",
     "output_type": "stream",
     "text": [
      "['Date', 'Year', 'Donor', 'Items', 'Value ($)', 'Country', 'Continent', 'Regime']\n",
      "['Date', 'Year', 'Country', 'Donor', 'Items', 'Value ($)', 'Continent', 'Regime']\n"
     ]
    }
   ],
   "source": [
    "print(obama_list)\n",
    "print(hilary_list)"
   ]
  },
  {
   "cell_type": "markdown",
   "metadata": {},
   "source": [
    "#### We can see that Obama and Hilary lists contain the same columns with only Country being in a different place\n",
    "##### So let's first fix that: we can just re-arrange the columns based on obamas' column list"
   ]
  },
  {
   "cell_type": "code",
   "execution_count": 6,
   "metadata": {},
   "outputs": [],
   "source": [
    "df_hillary = df_hillary[obama_list]"
   ]
  },
  {
   "cell_type": "code",
   "execution_count": 7,
   "metadata": {},
   "outputs": [
    {
     "data": {
      "text/html": [
       "<div>\n",
       "<style scoped>\n",
       "    .dataframe tbody tr th:only-of-type {\n",
       "        vertical-align: middle;\n",
       "    }\n",
       "\n",
       "    .dataframe tbody tr th {\n",
       "        vertical-align: top;\n",
       "    }\n",
       "\n",
       "    .dataframe thead th {\n",
       "        text-align: right;\n",
       "    }\n",
       "</style>\n",
       "<table border=\"1\" class=\"dataframe\">\n",
       "  <thead>\n",
       "    <tr style=\"text-align: right;\">\n",
       "      <th></th>\n",
       "      <th>Date</th>\n",
       "      <th>Year</th>\n",
       "      <th>Donor</th>\n",
       "      <th>Items</th>\n",
       "      <th>Value ($)</th>\n",
       "      <th>Country</th>\n",
       "      <th>Continent</th>\n",
       "      <th>Regime</th>\n",
       "    </tr>\n",
       "  </thead>\n",
       "  <tbody>\n",
       "    <tr>\n",
       "      <th>0</th>\n",
       "      <td>5/23/2010</td>\n",
       "      <td>2010.0</td>\n",
       "      <td>Mr. Yu Zhengsheng</td>\n",
       "      <td>Framed watercolor painting, title: \"Celestial ...</td>\n",
       "      <td>350.0</td>\n",
       "      <td>China</td>\n",
       "      <td>Asia</td>\n",
       "      <td>Authoritarian</td>\n",
       "    </tr>\n",
       "    <tr>\n",
       "      <th>1</th>\n",
       "      <td>01/02/2002</td>\n",
       "      <td>2002.0</td>\n",
       "      <td>His Excellency Benyamin Elon</td>\n",
       "      <td>Ancient Roman glass Judaica salt dish with ste...</td>\n",
       "      <td>195.0</td>\n",
       "      <td>Israel</td>\n",
       "      <td>Asia</td>\n",
       "      <td>Flawed Democracy</td>\n",
       "    </tr>\n",
       "    <tr>\n",
       "      <th>2</th>\n",
       "      <td>12/08/2006</td>\n",
       "      <td>2006.0</td>\n",
       "      <td>His Excellency Abdul Rahim Wardak</td>\n",
       "      <td>75\" x 48\" Afghan rug.</td>\n",
       "      <td>500.0</td>\n",
       "      <td>Afghanistan</td>\n",
       "      <td>Asia</td>\n",
       "      <td>Authoritarian</td>\n",
       "    </tr>\n",
       "    <tr>\n",
       "      <th>3</th>\n",
       "      <td>01/01/2007</td>\n",
       "      <td>2007.0</td>\n",
       "      <td>Their Majesties King Abdullah II ibn Al Hussei...</td>\n",
       "      <td>Set of silver Demitasse cups and wooden bowls.</td>\n",
       "      <td>600.0</td>\n",
       "      <td>Jordan</td>\n",
       "      <td>Asia</td>\n",
       "      <td>Authoritarian</td>\n",
       "    </tr>\n",
       "    <tr>\n",
       "      <th>4</th>\n",
       "      <td>06/06/2007</td>\n",
       "      <td>2007.0</td>\n",
       "      <td>His Excellency Francesco Rutelli</td>\n",
       "      <td>Free-standing mirrored artwork by M. Pistoletto.</td>\n",
       "      <td>500.0</td>\n",
       "      <td>Italy</td>\n",
       "      <td>Europe</td>\n",
       "      <td>Flawed Democracy</td>\n",
       "    </tr>\n",
       "  </tbody>\n",
       "</table>\n",
       "</div>"
      ],
      "text/plain": [
       "         Date    Year                                              Donor  \\\n",
       "0   5/23/2010  2010.0                                  Mr. Yu Zhengsheng   \n",
       "1  01/02/2002  2002.0                       His Excellency Benyamin Elon   \n",
       "2  12/08/2006  2006.0                  His Excellency Abdul Rahim Wardak   \n",
       "3  01/01/2007  2007.0  Their Majesties King Abdullah II ibn Al Hussei...   \n",
       "4  06/06/2007  2007.0                   His Excellency Francesco Rutelli   \n",
       "\n",
       "                                               Items  Value ($)      Country  \\\n",
       "0  Framed watercolor painting, title: \"Celestial ...      350.0        China   \n",
       "1  Ancient Roman glass Judaica salt dish with ste...      195.0       Israel   \n",
       "2                             75\" x 48\" Afghan rug.       500.0  Afghanistan   \n",
       "3    Set of silver Demitasse cups and wooden bowls.       600.0       Jordan   \n",
       "4  Free-standing mirrored artwork by M. Pistoletto.       500.0        Italy   \n",
       "\n",
       "  Continent            Regime  \n",
       "0      Asia     Authoritarian  \n",
       "1      Asia  Flawed Democracy  \n",
       "2      Asia     Authoritarian  \n",
       "3      Asia     Authoritarian  \n",
       "4    Europe  Flawed Democracy  "
      ]
     },
     "execution_count": 7,
     "metadata": {},
     "output_type": "execute_result"
    }
   ],
   "source": [
    "#inspect dataframe\n",
    "df_hillary.head()"
   ]
  },
  {
   "cell_type": "markdown",
   "metadata": {},
   "source": [
    "### We can now start thinking of our database structure:\n",
    "#### Since Hilary and Obama have the same columns we can just concatenate the two dataframes and add an extra column signifying the President's name"
   ]
  },
  {
   "cell_type": "code",
   "execution_count": 8,
   "metadata": {},
   "outputs": [],
   "source": [
    "df_obama_gifts['President'] = 'Obama'\n",
    "df_hillary['President'] = 'Hilary'"
   ]
  },
  {
   "cell_type": "code",
   "execution_count": 9,
   "metadata": {},
   "outputs": [
    {
     "name": "stdout",
     "output_type": "stream",
     "text": [
      "(415, 9)\n",
      "(10, 9)\n"
     ]
    }
   ],
   "source": [
    "print(df_obama_gifts.shape)\n",
    "print(df_hillary.shape)"
   ]
  },
  {
   "cell_type": "markdown",
   "metadata": {},
   "source": [
    "### Let's concatenate both dataframes in one master dataframe"
   ]
  },
  {
   "cell_type": "code",
   "execution_count": 10,
   "metadata": {},
   "outputs": [],
   "source": [
    "master_df = pd.concat([df_obama_gifts, df_hillary], ignore_index=True)"
   ]
  },
  {
   "cell_type": "code",
   "execution_count": 11,
   "metadata": {},
   "outputs": [
    {
     "data": {
      "text/html": [
       "<div>\n",
       "<style scoped>\n",
       "    .dataframe tbody tr th:only-of-type {\n",
       "        vertical-align: middle;\n",
       "    }\n",
       "\n",
       "    .dataframe tbody tr th {\n",
       "        vertical-align: top;\n",
       "    }\n",
       "\n",
       "    .dataframe thead th {\n",
       "        text-align: right;\n",
       "    }\n",
       "</style>\n",
       "<table border=\"1\" class=\"dataframe\">\n",
       "  <thead>\n",
       "    <tr style=\"text-align: right;\">\n",
       "      <th></th>\n",
       "      <th>Date</th>\n",
       "      <th>Year</th>\n",
       "      <th>Donor</th>\n",
       "      <th>Items</th>\n",
       "      <th>Value ($)</th>\n",
       "      <th>Country</th>\n",
       "      <th>Continent</th>\n",
       "      <th>Regime</th>\n",
       "      <th>President</th>\n",
       "    </tr>\n",
       "  </thead>\n",
       "  <tbody>\n",
       "    <tr>\n",
       "      <th>0</th>\n",
       "      <td>29/12/2016</td>\n",
       "      <td>2016.0</td>\n",
       "      <td>His Excellency Abdelaziz Bouteflika</td>\n",
       "      <td>Two cases of Algerian wine. Two cases of Alger...</td>\n",
       "      <td>951.0</td>\n",
       "      <td>Algeria</td>\n",
       "      <td>Africa</td>\n",
       "      <td>Authoritarian</td>\n",
       "      <td>Obama</td>\n",
       "    </tr>\n",
       "    <tr>\n",
       "      <th>1</th>\n",
       "      <td>27/12/2016</td>\n",
       "      <td>2016.0</td>\n",
       "      <td>His Excellency Shinzo Abe</td>\n",
       "      <td>Cufflinks, 4 white pearls on polished silver.</td>\n",
       "      <td>2850.0</td>\n",
       "      <td>Japan</td>\n",
       "      <td>Asia</td>\n",
       "      <td>Flawed Democracy</td>\n",
       "      <td>Obama</td>\n",
       "    </tr>\n",
       "    <tr>\n",
       "      <th>2</th>\n",
       "      <td>01/12/2016</td>\n",
       "      <td>2016.0</td>\n",
       "      <td>His Majesty Sultan Haji Hassanal Bolkiah Mu'iz...</td>\n",
       "      <td>Book, title:Sinatra.Glass champagne bucket and...</td>\n",
       "      <td>2734.0</td>\n",
       "      <td>Brunei Darussalam</td>\n",
       "      <td>Asia</td>\n",
       "      <td>Authoritarian</td>\n",
       "      <td>Obama</td>\n",
       "    </tr>\n",
       "    <tr>\n",
       "      <th>3</th>\n",
       "      <td>17/11/2016</td>\n",
       "      <td>2016.0</td>\n",
       "      <td>His Excellency Pedro Kuczynski</td>\n",
       "      <td>Wooden horse with polished metal features, inc...</td>\n",
       "      <td>545.0</td>\n",
       "      <td>Peru</td>\n",
       "      <td>South America</td>\n",
       "      <td>Flawed Democracy</td>\n",
       "      <td>Obama</td>\n",
       "    </tr>\n",
       "    <tr>\n",
       "      <th>4</th>\n",
       "      <td>16/11/2016</td>\n",
       "      <td>2016.0</td>\n",
       "      <td>Her Excellency Angela Merkel</td>\n",
       "      <td>Wooden Christmas pyramid comprised of five lev...</td>\n",
       "      <td>455.0</td>\n",
       "      <td>Germany</td>\n",
       "      <td>Europe</td>\n",
       "      <td>Full Democracy</td>\n",
       "      <td>Obama</td>\n",
       "    </tr>\n",
       "  </tbody>\n",
       "</table>\n",
       "</div>"
      ],
      "text/plain": [
       "         Date    Year                                              Donor  \\\n",
       "0  29/12/2016  2016.0                His Excellency Abdelaziz Bouteflika   \n",
       "1  27/12/2016  2016.0                          His Excellency Shinzo Abe   \n",
       "2  01/12/2016  2016.0  His Majesty Sultan Haji Hassanal Bolkiah Mu'iz...   \n",
       "3  17/11/2016  2016.0                     His Excellency Pedro Kuczynski   \n",
       "4  16/11/2016  2016.0                       Her Excellency Angela Merkel   \n",
       "\n",
       "                                               Items  Value ($)  \\\n",
       "0  Two cases of Algerian wine. Two cases of Alger...      951.0   \n",
       "1     Cufflinks, 4 white pearls on polished silver.      2850.0   \n",
       "2  Book, title:Sinatra.Glass champagne bucket and...     2734.0   \n",
       "3  Wooden horse with polished metal features, inc...      545.0   \n",
       "4  Wooden Christmas pyramid comprised of five lev...      455.0   \n",
       "\n",
       "             Country      Continent            Regime President  \n",
       "0            Algeria         Africa     Authoritarian     Obama  \n",
       "1              Japan           Asia  Flawed Democracy     Obama  \n",
       "2  Brunei Darussalam           Asia     Authoritarian     Obama  \n",
       "3               Peru  South America  Flawed Democracy     Obama  \n",
       "4            Germany         Europe    Full Democracy     Obama  "
      ]
     },
     "execution_count": 11,
     "metadata": {},
     "output_type": "execute_result"
    }
   ],
   "source": [
    "master_df.head()"
   ]
  },
  {
   "cell_type": "markdown",
   "metadata": {},
   "source": [
    "#### It seems that Year and Value are being parsed as floats: let's solve that"
   ]
  },
  {
   "cell_type": "code",
   "execution_count": 12,
   "metadata": {},
   "outputs": [
    {
     "data": {
      "text/html": [
       "<div>\n",
       "<style scoped>\n",
       "    .dataframe tbody tr th:only-of-type {\n",
       "        vertical-align: middle;\n",
       "    }\n",
       "\n",
       "    .dataframe tbody tr th {\n",
       "        vertical-align: top;\n",
       "    }\n",
       "\n",
       "    .dataframe thead th {\n",
       "        text-align: right;\n",
       "    }\n",
       "</style>\n",
       "<table border=\"1\" class=\"dataframe\">\n",
       "  <thead>\n",
       "    <tr style=\"text-align: right;\">\n",
       "      <th></th>\n",
       "      <th>Date</th>\n",
       "      <th>Year</th>\n",
       "      <th>Donor</th>\n",
       "      <th>Items</th>\n",
       "      <th>Value</th>\n",
       "      <th>Country</th>\n",
       "      <th>Continent</th>\n",
       "      <th>Regime</th>\n",
       "      <th>President</th>\n",
       "    </tr>\n",
       "  </thead>\n",
       "  <tbody>\n",
       "    <tr>\n",
       "      <th>0</th>\n",
       "      <td>29/12/2016</td>\n",
       "      <td>2016</td>\n",
       "      <td>His Excellency Abdelaziz Bouteflika</td>\n",
       "      <td>Two cases of Algerian wine. Two cases of Alger...</td>\n",
       "      <td>951</td>\n",
       "      <td>Algeria</td>\n",
       "      <td>Africa</td>\n",
       "      <td>Authoritarian</td>\n",
       "      <td>Obama</td>\n",
       "    </tr>\n",
       "    <tr>\n",
       "      <th>1</th>\n",
       "      <td>27/12/2016</td>\n",
       "      <td>2016</td>\n",
       "      <td>His Excellency Shinzo Abe</td>\n",
       "      <td>Cufflinks, 4 white pearls on polished silver.</td>\n",
       "      <td>2850</td>\n",
       "      <td>Japan</td>\n",
       "      <td>Asia</td>\n",
       "      <td>Flawed Democracy</td>\n",
       "      <td>Obama</td>\n",
       "    </tr>\n",
       "    <tr>\n",
       "      <th>2</th>\n",
       "      <td>01/12/2016</td>\n",
       "      <td>2016</td>\n",
       "      <td>His Majesty Sultan Haji Hassanal Bolkiah Mu'iz...</td>\n",
       "      <td>Book, title:Sinatra.Glass champagne bucket and...</td>\n",
       "      <td>2734</td>\n",
       "      <td>Brunei Darussalam</td>\n",
       "      <td>Asia</td>\n",
       "      <td>Authoritarian</td>\n",
       "      <td>Obama</td>\n",
       "    </tr>\n",
       "    <tr>\n",
       "      <th>3</th>\n",
       "      <td>17/11/2016</td>\n",
       "      <td>2016</td>\n",
       "      <td>His Excellency Pedro Kuczynski</td>\n",
       "      <td>Wooden horse with polished metal features, inc...</td>\n",
       "      <td>545</td>\n",
       "      <td>Peru</td>\n",
       "      <td>South America</td>\n",
       "      <td>Flawed Democracy</td>\n",
       "      <td>Obama</td>\n",
       "    </tr>\n",
       "    <tr>\n",
       "      <th>4</th>\n",
       "      <td>16/11/2016</td>\n",
       "      <td>2016</td>\n",
       "      <td>Her Excellency Angela Merkel</td>\n",
       "      <td>Wooden Christmas pyramid comprised of five lev...</td>\n",
       "      <td>455</td>\n",
       "      <td>Germany</td>\n",
       "      <td>Europe</td>\n",
       "      <td>Full Democracy</td>\n",
       "      <td>Obama</td>\n",
       "    </tr>\n",
       "  </tbody>\n",
       "</table>\n",
       "</div>"
      ],
      "text/plain": [
       "         Date  Year                                              Donor  \\\n",
       "0  29/12/2016  2016                His Excellency Abdelaziz Bouteflika   \n",
       "1  27/12/2016  2016                          His Excellency Shinzo Abe   \n",
       "2  01/12/2016  2016  His Majesty Sultan Haji Hassanal Bolkiah Mu'iz...   \n",
       "3  17/11/2016  2016                     His Excellency Pedro Kuczynski   \n",
       "4  16/11/2016  2016                       Her Excellency Angela Merkel   \n",
       "\n",
       "                                               Items  Value  \\\n",
       "0  Two cases of Algerian wine. Two cases of Alger...    951   \n",
       "1     Cufflinks, 4 white pearls on polished silver.    2850   \n",
       "2  Book, title:Sinatra.Glass champagne bucket and...   2734   \n",
       "3  Wooden horse with polished metal features, inc...    545   \n",
       "4  Wooden Christmas pyramid comprised of five lev...    455   \n",
       "\n",
       "             Country      Continent            Regime President  \n",
       "0            Algeria         Africa     Authoritarian     Obama  \n",
       "1              Japan           Asia  Flawed Democracy     Obama  \n",
       "2  Brunei Darussalam           Asia     Authoritarian     Obama  \n",
       "3               Peru  South America  Flawed Democracy     Obama  \n",
       "4            Germany         Europe    Full Democracy     Obama  "
      ]
     },
     "execution_count": 12,
     "metadata": {},
     "output_type": "execute_result"
    }
   ],
   "source": [
    "master_df[\"Year\"] = master_df[\"Year\"].astype(int)\n",
    "master_df[\"Value ($)\"] = master_df[\"Value ($)\"].astype(int)\n",
    "master_df = master_df.rename(columns={\"Value ($)\": \"Value\"})\n",
    "master_df.head()"
   ]
  },
  {
   "cell_type": "markdown",
   "metadata": {},
   "source": [
    "## Part 2: Creating Database and tables"
   ]
  },
  {
   "cell_type": "markdown",
   "metadata": {},
   "source": [
    "### Create database"
   ]
  },
  {
   "cell_type": "code",
   "execution_count": 13,
   "metadata": {},
   "outputs": [],
   "source": [
    "import sqlite3\n",
    "\n",
    "conn = sqlite3.connect('tutorial.db')\n",
    "c = conn.cursor()"
   ]
  },
  {
   "cell_type": "markdown",
   "metadata": {},
   "source": [
    "### Now let's start creating our tables:\n",
    "### By looking at the data we can assume 4 tables:\n",
    "### Gifts, Presidents, Years, Countries [can also be devided in Continents (I'll leave it for now)]\n",
    "### The relationships between the tables can be seen as such:\n",
    "#### Years --> Gifts (One --> Many)\n",
    "#### Country --> Gifts (One --> Many)\n",
    "#### President --> Gifts (One --> Many)"
   ]
  },
  {
   "cell_type": "code",
   "execution_count": 14,
   "metadata": {},
   "outputs": [],
   "source": [
    "def create_tables():\n",
    "    c.execute(\"CREATE TABLE IF NOT EXISTS Countries(country_name TEXT PRIMARY KEY, continent TEXT, regime TEXT)\")\n",
    "    c.execute(\"CREATE TABLE IF NOT EXISTS Years(year INTEGER PRIMARY KEY)\")\n",
    "    c.execute(\"CREATE TABLE IF NOT EXISTS Gifts(Date DATE, Year INTEGER, Donor TEXT, Items TEXT, Value INTEGER, Country TEXT, Continent TEXT, Regime TEXT, President TEXT, FOREIGN KEY (Country) REFERENCES Countries(country_name) ON UPDATE CASCADE, FOREIGN KEY (Year) REFERENCES Years(year) ON UPDATE CASCADE, FOREIGN KEY (President) REFERENCES Presidents(president_name) ON UPDATE CASCADE)\")\n",
    "    c.execute(\"CREATE TABLE IF NOT EXISTS Presidents(president_name TEXT PRIMARY KEY)\")"
   ]
  },
  {
   "cell_type": "code",
   "execution_count": 15,
   "metadata": {},
   "outputs": [],
   "source": [
    "create_tables()"
   ]
  },
  {
   "cell_type": "markdown",
   "metadata": {},
   "source": [
    "##### Let's insert some data in our database and inspect them"
   ]
  },
  {
   "cell_type": "code",
   "execution_count": 16,
   "metadata": {},
   "outputs": [],
   "source": [
    "def data_entry():\n",
    "    c.execute(\"INSERT INTO Gifts VALUES('29/12/2016',2016,'His Excellency Abdelaziz Bouteflika','Two cases of Algerian wine', 951, 'Algeria', 'Africa', 'Authoritarian', 'Obama')\")\n",
    "\n",
    "    conn.commit()\n",
    "    c.close()\n",
    "    conn.close()"
   ]
  },
  {
   "cell_type": "code",
   "execution_count": 17,
   "metadata": {},
   "outputs": [],
   "source": [
    "data_entry()"
   ]
  },
  {
   "cell_type": "code",
   "execution_count": 18,
   "metadata": {},
   "outputs": [
    {
     "name": "stdout",
     "output_type": "stream",
     "text": [
      "('29/12/2016', 2016, 'His Excellency Abdelaziz Bouteflika', 'Two cases of Algerian wine', 951, 'Algeria', 'Africa', 'Authoritarian', 'Obama')\n"
     ]
    }
   ],
   "source": [
    "# fetch all of the rows from the query\n",
    "conn = sqlite3.connect('tutorial.db')\n",
    "c = conn.cursor()\n",
    "c.execute('SELECT * FROM Gifts')\n",
    "data = c.fetchall()\n",
    "\n",
    "# print the rows\n",
    "for row in data :\n",
    "    print(row)\n",
    "\n",
    "#close connection\n",
    "c.close()\n",
    "conn.close()\n"
   ]
  },
  {
   "cell_type": "markdown",
   "metadata": {},
   "source": [
    "### We can now put the values from the dataframe into the database tables"
   ]
  },
  {
   "cell_type": "code",
   "execution_count": 19,
   "metadata": {},
   "outputs": [],
   "source": [
    "#read unique values for year, country, president\n",
    "year_values = master_df.Year.unique()\n",
    "country_values = master_df.groupby(['Country', 'Continent', 'Regime']).size().reset_index()\n",
    "president_values = master_df.President.unique()"
   ]
  },
  {
   "cell_type": "code",
   "execution_count": 20,
   "metadata": {},
   "outputs": [],
   "source": [
    "#Push into database\n",
    "conn = sqlite3.connect('tutorial.db')\n",
    "c = conn.cursor()\n",
    "\n",
    "for item in year_values:\n",
    "    c.execute('INSERT INTO Years VALUES (? )', (int(item),))\n",
    "    conn.commit()\n",
    "    \n",
    "for president in president_values:\n",
    "    c.execute('INSERT INTO Presidents VALUES (? )', (str(president),))\n",
    "    conn.commit()\n",
    "\n",
    "c.close()\n",
    "conn.close()"
   ]
  },
  {
   "cell_type": "markdown",
   "metadata": {},
   "source": [
    "#### Alternatively you can use the dataframe.to_sql function to push the whole dataframe into a db table"
   ]
  },
  {
   "cell_type": "code",
   "execution_count": 21,
   "metadata": {},
   "outputs": [],
   "source": [
    "conn = sqlite3.connect('tutorial.db')\n",
    "c = conn.cursor()\n",
    "\n",
    "country_values[[\"Country\", \"Continent\", \"Regime\"]].to_sql(\"Countries\", conn, if_exists=\"replace\", index=False)\n",
    "master_df.to_sql(\"Gifts\", conn, if_exists=\"append\", index=False)\n",
    "    \n",
    "c.close()\n",
    "conn.close()"
   ]
  },
  {
   "cell_type": "markdown",
   "metadata": {},
   "source": [
    "#### Let's run a simple query to see if everything works"
   ]
  },
  {
   "cell_type": "code",
   "execution_count": 22,
   "metadata": {},
   "outputs": [
    {
     "name": "stdout",
     "output_type": "stream",
     "text": [
      "         Date  Year                                              Donor  \\\n",
      "0   5/23/2010  2010                                  Mr. Yu Zhengsheng   \n",
      "1  12/08/2006  2006                  His Excellency Abdul Rahim Wardak   \n",
      "2  01/01/2007  2007  Their Majesties King Abdullah II ibn Al Hussei...   \n",
      "3  01/10/2007  2007        His Majesty King Abdullah II ibn Al Hussein   \n",
      "4  01/10/2012  2012                               Daw Aung San Suu Kyi   \n",
      "5  01/04/2013  2013  His Majesty King Abdullah II ibn Al Hussein an...   \n",
      "6  01/10/2013  2013                        His Excellency Hamid Karzai   \n",
      "\n",
      "                                               Items  Value      Country  \\\n",
      "0  Framed watercolor painting, title: \"Celestial ...    350        China   \n",
      "1                             75\" x 48\" Afghan rug.     500  Afghanistan   \n",
      "2    Set of silver Demitasse cups and wooden bowls.     600       Jordan   \n",
      "3  Leather box with leather and glass flower vase...    200       Jordan   \n",
      "4  Black two-strand cushion pearl necklace with g...    970      Myanmar   \n",
      "5             Two-toned avalon blue Hermès blanket.    1300       Jordan   \n",
      "6                       76\" x 62\" handwoven carpet.     660  Afghanistan   \n",
      "\n",
      "  Continent         Regime President  \n",
      "0      Asia  Authoritarian    Hilary  \n",
      "1      Asia  Authoritarian    Hilary  \n",
      "2      Asia  Authoritarian    Hilary  \n",
      "3      Asia  Authoritarian    Hilary  \n",
      "4      Asia  Authoritarian    Hilary  \n",
      "5      Asia  Authoritarian    Hilary  \n",
      "6      Asia  Authoritarian    Hilary  \n"
     ]
    }
   ],
   "source": [
    "conn = sqlite3.connect('tutorial.db')\n",
    "c = conn.cursor()\n",
    "query = pd.read_sql_query(\"SELECT * FROM Gifts WHERE Regime = 'Authoritarian' and President = 'Hilary';\", conn)\n",
    "\n",
    "print(query)\n",
    "    \n",
    "c.close()\n",
    "conn.close()"
   ]
  },
  {
   "cell_type": "markdown",
   "metadata": {},
   "source": [
    "## Part 3: Manipulating data\n",
    "### Coming soon.."
   ]
  },
  {
   "cell_type": "code",
   "execution_count": null,
   "metadata": {},
   "outputs": [],
   "source": []
  }
 ],
 "metadata": {
  "kernelspec": {
   "display_name": "Python 3",
   "language": "python",
   "name": "python3"
  },
  "language_info": {
   "codemirror_mode": {
    "name": "ipython",
    "version": 3
   },
   "file_extension": ".py",
   "mimetype": "text/x-python",
   "name": "python",
   "nbconvert_exporter": "python",
   "pygments_lexer": "ipython3",
   "version": "3.7.0"
  }
 },
 "nbformat": 4,
 "nbformat_minor": 2
}
